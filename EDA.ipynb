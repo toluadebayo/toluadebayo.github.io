{
 "cells": [
  {
   "cell_type": "markdown",
   "id": "66efd925",
   "metadata": {},
   "source": [
    "# Capstone Project: EDA\n",
    "### Requirements:\n",
    "1. Create an exploratory data analysis notebook.\n",
    "2. Perform statistical analysis, along with any visualizations.\n",
    "3. Determine how to handle sampling or missing values.\n",
    "4. Clearly identify shortcomings, assumptions, and next steps."
   ]
  },
  {
   "cell_type": "markdown",
   "id": "ab8f2691",
   "metadata": {},
   "source": [
    "### The Data: \n",
    "- There are 3 separate datasets (A: demographics, B: transactions, and C: sessions)\n",
    "- Specific to the year 2019 (will compare predictions with 2020)\n",
    "- Data dictionary is in directory (see ComScore Data Dicitionary.pdf)\n",
    "    - Citation: Wharton Research Data Services. \"WRDS\" wrds.wharton.upenn.edu, accessed 2021-09-27."
   ]
  },
  {
   "cell_type": "code",
   "execution_count": 1,
   "id": "02299af6",
   "metadata": {},
   "outputs": [],
   "source": [
    "import pandas as pd\n",
    "import numpy as np \n",
    "import matplotlib.pyplot as plt\n",
    "import seaborn as sns\n",
    "import statistics \n",
    "from datetime import timedelta\n",
    "from impyute.imputation.cs import mice\n",
    "from uszipcode import SearchEngine, SimpleZipcode, Zipcode\n",
    "search = SearchEngine()\n",
    "%matplotlib inline"
   ]
  },
  {
   "cell_type": "code",
   "execution_count": 2,
   "id": "c59085fd",
   "metadata": {},
   "outputs": [
    {
     "name": "stdout",
     "output_type": "stream",
     "text": [
      "1.2.4\n",
      "1.20.1\n",
      "3.3.4\n",
      "0.11.1\n"
     ]
    }
   ],
   "source": [
    "print(pd.__version__)\n",
    "print(np.__version__)\n",
    "import matplotlib\n",
    "print(matplotlib.__version__)\n",
    "print(sns.__version__)"
   ]
  },
  {
   "cell_type": "markdown",
   "id": "6b5718a3",
   "metadata": {},
   "source": [
    "## A: Demographics\n",
    "- Call Google Sheets API to get data"
   ]
  },
  {
   "cell_type": "code",
   "execution_count": 3,
   "id": "9f952ca5",
   "metadata": {},
   "outputs": [],
   "source": [
    "from googleapiclient.discovery import build\n",
    "from google.oauth2 import service_account\n",
    "\n",
    "#Allow access (credentials)\n",
    "SERVICE_ACCOUNT_FILE = 'client_secrets.json'\n",
    "#This is what we need access to \n",
    "SCOPES = ['https://www.googleapis.com/auth/spreadsheets']\n",
    "\n",
    "creds = None\n",
    "creds = service_account.Credentials.from_service_account_file(\n",
    "        SERVICE_ACCOUNT_FILE, scopes=SCOPES)\n",
    "\n",
    "#d/19m3Fqxc1RXpEFl2L8WyH-P9Ii__tAMREyNkhm9jq7iM\n",
    "#https://docs.google.com/spreadsheets/d/19m3Fqxc1RXpEFl2L8WyH-P9Ii__tAMREyNkhm9jq7iM/edit#gid=715990799\n",
    "# The ID of a sample spreadsheet\n",
    "SAMPLE_SPREADSHEET_ID = '19m3Fqxc1RXpEFl2L8WyH-P9Ii__tAMREyNkhm9jq7iM'\n",
    "service = build('sheets', 'v4', credentials=creds)\n",
    "\n",
    "#1G0HYhvMKSLztaXhwS5WcE87kqK0BSlx3QwF-4bIdhpE\n",
    "# Call the Sheets API\n",
    "sheet = service.spreadsheets()\n",
    "result = sheet.values().get(spreadsheetId=SAMPLE_SPREADSHEET_ID,\n",
    "                                range='demo2019!A1:K167952').execute()\n",
    "values = result.get('values', [])"
   ]
  },
  {
   "cell_type": "code",
   "execution_count": 4,
   "id": "53f40282",
   "metadata": {},
   "outputs": [
    {
     "data": {
      "text/html": [
       "<div>\n",
       "<style scoped>\n",
       "    .dataframe tbody tr th:only-of-type {\n",
       "        vertical-align: middle;\n",
       "    }\n",
       "\n",
       "    .dataframe tbody tr th {\n",
       "        vertical-align: top;\n",
       "    }\n",
       "\n",
       "    .dataframe thead th {\n",
       "        text-align: right;\n",
       "    }\n",
       "</style>\n",
       "<table border=\"1\" class=\"dataframe\">\n",
       "  <thead>\n",
       "    <tr style=\"text-align: right;\">\n",
       "      <th></th>\n",
       "      <th>hoh_most_education</th>\n",
       "      <th>census_region</th>\n",
       "      <th>household_size</th>\n",
       "      <th>hoh_oldest_age</th>\n",
       "      <th>household_income</th>\n",
       "      <th>children</th>\n",
       "      <th>racial_background</th>\n",
       "      <th>country_of_origin</th>\n",
       "      <th>zip_code</th>\n",
       "    </tr>\n",
       "    <tr>\n",
       "      <th>machine_id</th>\n",
       "      <th></th>\n",
       "      <th></th>\n",
       "      <th></th>\n",
       "      <th></th>\n",
       "      <th></th>\n",
       "      <th></th>\n",
       "      <th></th>\n",
       "      <th></th>\n",
       "      <th></th>\n",
       "    </tr>\n",
       "  </thead>\n",
       "  <tbody>\n",
       "    <tr>\n",
       "      <th>89948345</th>\n",
       "      <td>99</td>\n",
       "      <td>3</td>\n",
       "      <td>1</td>\n",
       "      <td>10</td>\n",
       "      <td>13</td>\n",
       "      <td>0</td>\n",
       "      <td>2</td>\n",
       "      <td>0</td>\n",
       "      <td>70503</td>\n",
       "    </tr>\n",
       "    <tr>\n",
       "      <th>93919854</th>\n",
       "      <td>99</td>\n",
       "      <td>3</td>\n",
       "      <td>4</td>\n",
       "      <td>3</td>\n",
       "      <td>11</td>\n",
       "      <td>1</td>\n",
       "      <td>2</td>\n",
       "      <td>0</td>\n",
       "      <td>74726</td>\n",
       "    </tr>\n",
       "    <tr>\n",
       "      <th>94485706</th>\n",
       "      <td>5</td>\n",
       "      <td>99</td>\n",
       "      <td>4</td>\n",
       "      <td>11</td>\n",
       "      <td>17</td>\n",
       "      <td>1</td>\n",
       "      <td>2</td>\n",
       "      <td>1</td>\n",
       "      <td>99999</td>\n",
       "    </tr>\n",
       "    <tr>\n",
       "      <th>111304835</th>\n",
       "      <td>99</td>\n",
       "      <td>1</td>\n",
       "      <td>2</td>\n",
       "      <td>5</td>\n",
       "      <td>11</td>\n",
       "      <td>1</td>\n",
       "      <td>5</td>\n",
       "      <td>1</td>\n",
       "      <td>None</td>\n",
       "    </tr>\n",
       "    <tr>\n",
       "      <th>117807892</th>\n",
       "      <td>99</td>\n",
       "      <td>3</td>\n",
       "      <td>2</td>\n",
       "      <td>6</td>\n",
       "      <td>11</td>\n",
       "      <td>1</td>\n",
       "      <td>5</td>\n",
       "      <td>0</td>\n",
       "      <td>70127</td>\n",
       "    </tr>\n",
       "  </tbody>\n",
       "</table>\n",
       "</div>"
      ],
      "text/plain": [
       "           hoh_most_education census_region household_size hoh_oldest_age  \\\n",
       "machine_id                                                                  \n",
       "89948345                   99             3              1             10   \n",
       "93919854                   99             3              4              3   \n",
       "94485706                    5            99              4             11   \n",
       "111304835                  99             1              2              5   \n",
       "117807892                  99             3              2              6   \n",
       "\n",
       "           household_income children racial_background country_of_origin  \\\n",
       "machine_id                                                                 \n",
       "89948345                 13        0                 2                 0   \n",
       "93919854                 11        1                 2                 0   \n",
       "94485706                 17        1                 2                 1   \n",
       "111304835                11        1                 5                 1   \n",
       "117807892                11        1                 5                 0   \n",
       "\n",
       "           zip_code  \n",
       "machine_id           \n",
       "89948345      70503  \n",
       "93919854      74726  \n",
       "94485706      99999  \n",
       "111304835      None  \n",
       "117807892     70127  "
      ]
     },
     "execution_count": 4,
     "metadata": {},
     "output_type": "execute_result"
    }
   ],
   "source": [
    "#Convert demographics list into df\n",
    "demo2019 = pd.DataFrame(values)\n",
    "#Properly assign columns \n",
    "demo2019.columns = demo2019[:1].values[0]\n",
    "demo2019.drop([0], inplace=True)\n",
    "#Reset index \n",
    "demo2019.set_index('machine_id', inplace=True)\n",
    "#Drop connection speed column \n",
    "demo2019.drop(['connection_speed'], axis=1, inplace=True)\n",
    "demo2019.head()"
   ]
  },
  {
   "cell_type": "code",
   "execution_count": 5,
   "id": "dcf0c68a",
   "metadata": {},
   "outputs": [
    {
     "name": "stdout",
     "output_type": "stream",
     "text": [
      "(139069, 9)\n",
      "hoh_most_education    object\n",
      "census_region         object\n",
      "household_size        object\n",
      "hoh_oldest_age        object\n",
      "household_income      object\n",
      "children              object\n",
      "racial_background     object\n",
      "country_of_origin     object\n",
      "zip_code              object\n",
      "dtype: object\n"
     ]
    }
   ],
   "source": [
    "print(demo2019.shape) #139,069 rows, 9 columns (not including index)\n",
    "\n",
    "#Check data types \n",
    "print(demo2019.dtypes) #Note that all columns are objects...need to convert to integer\n",
    "#Note that even though all of these columns are integers, 6 columns are  categorical, 2 are binary\\\n",
    "#and 1 is a true integer. \n",
    "\n",
    "demo2019 = demo2019.apply(pd.to_numeric)"
   ]
  },
  {
   "cell_type": "code",
   "execution_count": 6,
   "id": "900fe0c5",
   "metadata": {},
   "outputs": [
    {
     "name": "stdout",
     "output_type": "stream",
     "text": [
      "    hoh_most_education\n",
      "99            0.590268\n",
      "3             0.142138\n",
      "2             0.134444\n",
      "4             0.100216\n",
      "1             0.017071\n",
      "5             0.015863\n",
      "    census_region\n",
      "3        0.416017\n",
      "4        0.215238\n",
      "2        0.196248\n",
      "1        0.172181\n",
      "99       0.000316\n",
      "    household_size\n",
      "2         0.372650\n",
      "1         0.188626\n",
      "3         0.171433\n",
      "5         0.143591\n",
      "4         0.120588\n",
      "99        0.003114\n",
      "    hoh_oldest_age\n",
      "8         0.189208\n",
      "7         0.150558\n",
      "11        0.138083\n",
      "9         0.108047\n",
      "6         0.089732\n",
      "5         0.069009\n",
      "10        0.067175\n",
      "4         0.059273\n",
      "3         0.054685\n",
      "2         0.040217\n",
      "1         0.034012\n",
      "    household_income\n",
      "11          0.305762\n",
      "12          0.185448\n",
      "13          0.145805\n",
      "16          0.102654\n",
      "15          0.087920\n",
      "18          0.080413\n",
      "14          0.063127\n",
      "17          0.028871\n",
      "   children\n",
      "1  0.511063\n",
      "0  0.488937\n",
      "     racial_background\n",
      " 1            0.542047\n",
      " 2            0.218338\n",
      " 5            0.184369\n",
      " 3            0.055152\n",
      "-88           0.000093\n",
      "   country_of_origin\n",
      "0           0.837591\n",
      "1           0.162409\n",
      "         zip_code\n",
      "64121.0  0.000803\n",
      "60647.0  0.000759\n",
      "77494.0  0.000722\n",
      "34953.0  0.000714\n",
      "77379.0  0.000692\n",
      "...           ...\n",
      "74941.0  0.000007\n",
      "29410.0  0.000007\n",
      "55063.0  0.000007\n",
      "77905.0  0.000007\n",
      "83127.0  0.000007\n",
      "\n",
      "[14569 rows x 1 columns]\n"
     ]
    },
    {
     "data": {
      "text/plain": [
       "44"
      ]
     },
     "execution_count": 6,
     "metadata": {},
     "output_type": "execute_result"
    }
   ],
   "source": [
    "#Evaluating nulls\n",
    "#Multiple columns have 'unknown' values of 99 so I want to know what is the frequency of those values.\n",
    "    #Nulls are most significant in hoh_most_education column (73%) --> Do not use as feature \n",
    "for cols in demo2019.columns[0:]:\n",
    "   print(pd.DataFrame(demo2019[cols].value_counts(normalize=True)))\n",
    "    \n",
    "demo2019.isnull().sum()  #zip code column is the only col with nulls (3,288 nulls) \n",
    "\n",
    "#How should we treat nulls? Impute nulls: change all NAs to 99999 (dummy entry) \n",
    "demo2019.zip_code.fillna('99999', inplace=True)\n",
    "len(demo2019[demo2019['zip_code'] == 99999.0]) #44 dummy records "
   ]
  },
  {
   "cell_type": "code",
   "execution_count": 7,
   "id": "9372c82b",
   "metadata": {},
   "outputs": [
    {
     "data": {
      "text/html": [
       "<div>\n",
       "<style scoped>\n",
       "    .dataframe tbody tr th:only-of-type {\n",
       "        vertical-align: middle;\n",
       "    }\n",
       "\n",
       "    .dataframe tbody tr th {\n",
       "        vertical-align: top;\n",
       "    }\n",
       "\n",
       "    .dataframe thead th {\n",
       "        text-align: right;\n",
       "    }\n",
       "</style>\n",
       "<table border=\"1\" class=\"dataframe\">\n",
       "  <thead>\n",
       "    <tr style=\"text-align: right;\">\n",
       "      <th></th>\n",
       "      <th>hoh_most_education</th>\n",
       "      <th>census_region</th>\n",
       "      <th>household_size</th>\n",
       "      <th>hoh_oldest_age</th>\n",
       "      <th>household_income</th>\n",
       "      <th>children</th>\n",
       "      <th>racial_background</th>\n",
       "      <th>country_of_origin</th>\n",
       "    </tr>\n",
       "  </thead>\n",
       "  <tbody>\n",
       "    <tr>\n",
       "      <th>hoh_most_education</th>\n",
       "      <td>1.000000</td>\n",
       "      <td>0.013968</td>\n",
       "      <td>0.005995</td>\n",
       "      <td>-0.260597</td>\n",
       "      <td>-0.120016</td>\n",
       "      <td>-0.208636</td>\n",
       "      <td>0.169271</td>\n",
       "      <td>-0.047259</td>\n",
       "    </tr>\n",
       "    <tr>\n",
       "      <th>census_region</th>\n",
       "      <td>0.013968</td>\n",
       "      <td>1.000000</td>\n",
       "      <td>0.009507</td>\n",
       "      <td>-0.018906</td>\n",
       "      <td>-0.006986</td>\n",
       "      <td>-0.004598</td>\n",
       "      <td>0.013469</td>\n",
       "      <td>0.036951</td>\n",
       "    </tr>\n",
       "    <tr>\n",
       "      <th>household_size</th>\n",
       "      <td>0.005995</td>\n",
       "      <td>0.009507</td>\n",
       "      <td>1.000000</td>\n",
       "      <td>-0.004352</td>\n",
       "      <td>0.011641</td>\n",
       "      <td>0.161070</td>\n",
       "      <td>-0.006531</td>\n",
       "      <td>0.009534</td>\n",
       "    </tr>\n",
       "    <tr>\n",
       "      <th>hoh_oldest_age</th>\n",
       "      <td>-0.260597</td>\n",
       "      <td>-0.018906</td>\n",
       "      <td>-0.004352</td>\n",
       "      <td>1.000000</td>\n",
       "      <td>0.072670</td>\n",
       "      <td>-0.113786</td>\n",
       "      <td>-0.170730</td>\n",
       "      <td>-0.060076</td>\n",
       "    </tr>\n",
       "    <tr>\n",
       "      <th>household_income</th>\n",
       "      <td>-0.120016</td>\n",
       "      <td>-0.006986</td>\n",
       "      <td>0.011641</td>\n",
       "      <td>0.072670</td>\n",
       "      <td>1.000000</td>\n",
       "      <td>0.066028</td>\n",
       "      <td>-0.009004</td>\n",
       "      <td>-0.051891</td>\n",
       "    </tr>\n",
       "    <tr>\n",
       "      <th>children</th>\n",
       "      <td>-0.208636</td>\n",
       "      <td>-0.004598</td>\n",
       "      <td>0.161070</td>\n",
       "      <td>-0.113786</td>\n",
       "      <td>0.066028</td>\n",
       "      <td>1.000000</td>\n",
       "      <td>0.110799</td>\n",
       "      <td>0.054530</td>\n",
       "    </tr>\n",
       "    <tr>\n",
       "      <th>racial_background</th>\n",
       "      <td>0.169271</td>\n",
       "      <td>0.013469</td>\n",
       "      <td>-0.006531</td>\n",
       "      <td>-0.170730</td>\n",
       "      <td>-0.009004</td>\n",
       "      <td>0.110799</td>\n",
       "      <td>1.000000</td>\n",
       "      <td>0.203301</td>\n",
       "    </tr>\n",
       "    <tr>\n",
       "      <th>country_of_origin</th>\n",
       "      <td>-0.047259</td>\n",
       "      <td>0.036951</td>\n",
       "      <td>0.009534</td>\n",
       "      <td>-0.060076</td>\n",
       "      <td>-0.051891</td>\n",
       "      <td>0.054530</td>\n",
       "      <td>0.203301</td>\n",
       "      <td>1.000000</td>\n",
       "    </tr>\n",
       "  </tbody>\n",
       "</table>\n",
       "</div>"
      ],
      "text/plain": [
       "                    hoh_most_education  census_region  household_size  \\\n",
       "hoh_most_education            1.000000       0.013968        0.005995   \n",
       "census_region                 0.013968       1.000000        0.009507   \n",
       "household_size                0.005995       0.009507        1.000000   \n",
       "hoh_oldest_age               -0.260597      -0.018906       -0.004352   \n",
       "household_income             -0.120016      -0.006986        0.011641   \n",
       "children                     -0.208636      -0.004598        0.161070   \n",
       "racial_background             0.169271       0.013469       -0.006531   \n",
       "country_of_origin            -0.047259       0.036951        0.009534   \n",
       "\n",
       "                    hoh_oldest_age  household_income  children  \\\n",
       "hoh_most_education       -0.260597         -0.120016 -0.208636   \n",
       "census_region            -0.018906         -0.006986 -0.004598   \n",
       "household_size           -0.004352          0.011641  0.161070   \n",
       "hoh_oldest_age            1.000000          0.072670 -0.113786   \n",
       "household_income          0.072670          1.000000  0.066028   \n",
       "children                 -0.113786          0.066028  1.000000   \n",
       "racial_background        -0.170730         -0.009004  0.110799   \n",
       "country_of_origin        -0.060076         -0.051891  0.054530   \n",
       "\n",
       "                    racial_background  country_of_origin  \n",
       "hoh_most_education           0.169271          -0.047259  \n",
       "census_region                0.013469           0.036951  \n",
       "household_size              -0.006531           0.009534  \n",
       "hoh_oldest_age              -0.170730          -0.060076  \n",
       "household_income            -0.009004          -0.051891  \n",
       "children                     0.110799           0.054530  \n",
       "racial_background            1.000000           0.203301  \n",
       "country_of_origin            0.203301           1.000000  "
      ]
     },
     "execution_count": 7,
     "metadata": {},
     "output_type": "execute_result"
    },
    {
     "data": {
      "image/png": "[encoded data removed]",
      "text/plain": [
       "<Figure size 432x288 with 2 Axes>"
      ]
     },
     "metadata": {
      "needs_background": "light"
     },
     "output_type": "display_data"
    }
   ],
   "source": [
    "sns.heatmap(demo2019.corr()) \n",
    "demo2019.corr()\n",
    "#Education and racial background have the strongest positive correlation (intuitively makes sense.#\n",
    "#The strongest negative correlation is b/t education region and age."
   ]
  },
  {
   "cell_type": "code",
   "execution_count": 8,
   "id": "44a498e1",
   "metadata": {},
   "outputs": [
    {
     "data": {
      "text/plain": [
       "99    82088\n",
       "3     19767\n",
       "2     18697\n",
       "4     13937\n",
       "1      2374\n",
       "5      2206\n",
       "Name: hoh_most_education, dtype: int64"
      ]
     },
     "execution_count": 8,
     "metadata": {},
     "output_type": "execute_result"
    }
   ],
   "source": [
    "demo2019.hoh_most_education.value_counts()"
   ]
  },
  {
   "cell_type": "code",
   "execution_count": 9,
   "id": "1f656074",
   "metadata": {},
   "outputs": [
    {
     "data": {
      "image/png": "[encoded data removed]",
      "text/plain": [
       "<Figure size 1080x1080 with 9 Axes>"
      ]
     },
     "metadata": {
      "needs_background": "light"
     },
     "output_type": "display_data"
    }
   ],
   "source": [
    "#Dummy entries may be skewing view, let's get rid of them and re-visualize \n",
    "cols = ['hoh_most_education', 'census_region', 'household_size',\n",
    "       'hoh_oldest_age', 'household_income', 'children', 'racial_background', 'country_of_origin']\n",
    "demo2019[demo2019[cols]<99].hist(figsize=(15,15));"
   ]
  },
  {
   "cell_type": "code",
   "execution_count": 10,
   "id": "a574333e",
   "metadata": {},
   "outputs": [
    {
     "data": {
      "text/html": [
       "<div>\n",
       "<style scoped>\n",
       "    .dataframe tbody tr th:only-of-type {\n",
       "        vertical-align: middle;\n",
       "    }\n",
       "\n",
       "    .dataframe tbody tr th {\n",
       "        vertical-align: top;\n",
       "    }\n",
       "\n",
       "    .dataframe thead th {\n",
       "        text-align: right;\n",
       "    }\n",
       "</style>\n",
       "<table border=\"1\" class=\"dataframe\">\n",
       "  <thead>\n",
       "    <tr style=\"text-align: right;\">\n",
       "      <th></th>\n",
       "      <th></th>\n",
       "      <th>hoh_most_education</th>\n",
       "      <th>census_region</th>\n",
       "      <th>household_size</th>\n",
       "      <th>hoh_oldest_age</th>\n",
       "      <th>household_income</th>\n",
       "      <th>racial_background</th>\n",
       "      <th>zip_code</th>\n",
       "    </tr>\n",
       "    <tr>\n",
       "      <th>children</th>\n",
       "      <th>country_of_origin</th>\n",
       "      <th></th>\n",
       "      <th></th>\n",
       "      <th></th>\n",
       "      <th></th>\n",
       "      <th></th>\n",
       "      <th></th>\n",
       "      <th></th>\n",
       "    </tr>\n",
       "  </thead>\n",
       "  <tbody>\n",
       "    <tr>\n",
       "      <th rowspan=\"2\" valign=\"top\">0</th>\n",
       "      <th>0</th>\n",
       "      <td>58351</td>\n",
       "      <td>58351</td>\n",
       "      <td>58351</td>\n",
       "      <td>58351</td>\n",
       "      <td>58351</td>\n",
       "      <td>58351</td>\n",
       "      <td>58351</td>\n",
       "    </tr>\n",
       "    <tr>\n",
       "      <th>1</th>\n",
       "      <td>9645</td>\n",
       "      <td>9645</td>\n",
       "      <td>9645</td>\n",
       "      <td>9645</td>\n",
       "      <td>9645</td>\n",
       "      <td>9645</td>\n",
       "      <td>9645</td>\n",
       "    </tr>\n",
       "    <tr>\n",
       "      <th rowspan=\"2\" valign=\"top\">1</th>\n",
       "      <th>0</th>\n",
       "      <td>58132</td>\n",
       "      <td>58132</td>\n",
       "      <td>58132</td>\n",
       "      <td>58132</td>\n",
       "      <td>58132</td>\n",
       "      <td>58132</td>\n",
       "      <td>58132</td>\n",
       "    </tr>\n",
       "    <tr>\n",
       "      <th>1</th>\n",
       "      <td>12941</td>\n",
       "      <td>12941</td>\n",
       "      <td>12941</td>\n",
       "      <td>12941</td>\n",
       "      <td>12941</td>\n",
       "      <td>12941</td>\n",
       "      <td>12941</td>\n",
       "    </tr>\n",
       "  </tbody>\n",
       "</table>\n",
       "</div>"
      ],
      "text/plain": [
       "                            hoh_most_education  census_region  household_size  \\\n",
       "children country_of_origin                                                      \n",
       "0        0                               58351          58351           58351   \n",
       "         1                                9645           9645            9645   \n",
       "1        0                               58132          58132           58132   \n",
       "         1                               12941          12941           12941   \n",
       "\n",
       "                            hoh_oldest_age  household_income  \\\n",
       "children country_of_origin                                     \n",
       "0        0                           58351             58351   \n",
       "         1                            9645              9645   \n",
       "1        0                           58132             58132   \n",
       "         1                           12941             12941   \n",
       "\n",
       "                            racial_background  zip_code  \n",
       "children country_of_origin                               \n",
       "0        0                              58351     58351  \n",
       "         1                               9645      9645  \n",
       "1        0                              58132     58132  \n",
       "         1                              12941     12941  "
      ]
     },
     "execution_count": 10,
     "metadata": {},
     "output_type": "execute_result"
    }
   ],
   "source": [
    "#Grouping binary columns \n",
    "demo2019.groupby(['children', 'country_of_origin']).count() \n",
    "#Data looks pretty balanced, except racial background and country origin"
   ]
  },
  {
   "cell_type": "markdown",
   "id": "c571decd",
   "metadata": {},
   "source": [
    "### Now let's do some cool stuff with zip codes!"
   ]
  },
  {
   "cell_type": "code",
   "execution_count": 11,
   "id": "3e820b2f",
   "metadata": {},
   "outputs": [],
   "source": [
    "#Need to convert zipcode column to string \n",
    "demo2019['zip_code'] = demo2019['zip_code'].apply(str)\n",
    "#Drop decimal \n",
    "demo2019['zip_code'] = pd.DataFrame(demo2019['zip_code'].str.split(pat='.', expand=True)[0])"
   ]
  },
  {
   "cell_type": "code",
   "execution_count": 12,
   "id": "feed88b6",
   "metadata": {},
   "outputs": [
    {
     "data": {
      "image/png": "[encoded data removed]",
      "text/plain": [
       "<Figure size 432x288 with 1 Axes>"
      ]
     },
     "metadata": {
      "needs_background": "light"
     },
     "output_type": "display_data"
    }
   ],
   "source": [
    "#Adding 2 geo columns based on zip code \n",
    "demo2019['city_name'] = demo2019['zip_code'].map(lambda x: search.by_zipcode(x).major_city)\n",
    "demo2019['state'] = demo2019['zip_code'].map(lambda x: search.by_zipcode(x).state)\n",
    "#Histogram of top 5 states \n",
    "demo2019['state'].value_counts().head(5).plot(kind=\"bar\");"
   ]
  },
  {
   "cell_type": "code",
   "execution_count": 13,
   "id": "1dbcb9d4",
   "metadata": {},
   "outputs": [
    {
     "data": {
      "text/html": [
       "<div>\n",
       "<style scoped>\n",
       "    .dataframe tbody tr th:only-of-type {\n",
       "        vertical-align: middle;\n",
       "    }\n",
       "\n",
       "    .dataframe tbody tr th {\n",
       "        vertical-align: top;\n",
       "    }\n",
       "\n",
       "    .dataframe thead th {\n",
       "        text-align: right;\n",
       "    }\n",
       "</style>\n",
       "<table border=\"1\" class=\"dataframe\">\n",
       "  <thead>\n",
       "    <tr style=\"text-align: right;\">\n",
       "      <th></th>\n",
       "      <th>hoh_most_education</th>\n",
       "      <th>census_region</th>\n",
       "      <th>household_size</th>\n",
       "      <th>hoh_oldest_age</th>\n",
       "      <th>household_income</th>\n",
       "      <th>children</th>\n",
       "      <th>racial_background</th>\n",
       "      <th>country_of_origin</th>\n",
       "      <th>zip_code</th>\n",
       "      <th>city_name</th>\n",
       "      <th>state</th>\n",
       "    </tr>\n",
       "    <tr>\n",
       "      <th>machine_id</th>\n",
       "      <th></th>\n",
       "      <th></th>\n",
       "      <th></th>\n",
       "      <th></th>\n",
       "      <th></th>\n",
       "      <th></th>\n",
       "      <th></th>\n",
       "      <th></th>\n",
       "      <th></th>\n",
       "      <th></th>\n",
       "      <th></th>\n",
       "    </tr>\n",
       "  </thead>\n",
       "  <tbody>\n",
       "    <tr>\n",
       "      <th>284912174</th>\n",
       "      <td>2</td>\n",
       "      <td>3</td>\n",
       "      <td>3</td>\n",
       "      <td>11</td>\n",
       "      <td>15</td>\n",
       "      <td>1</td>\n",
       "      <td>1</td>\n",
       "      <td>0</td>\n",
       "      <td>29532</td>\n",
       "      <td>Darlington</td>\n",
       "      <td>SC</td>\n",
       "    </tr>\n",
       "    <tr>\n",
       "      <th>284912175</th>\n",
       "      <td>99</td>\n",
       "      <td>3</td>\n",
       "      <td>5</td>\n",
       "      <td>8</td>\n",
       "      <td>11</td>\n",
       "      <td>0</td>\n",
       "      <td>2</td>\n",
       "      <td>0</td>\n",
       "      <td>70818</td>\n",
       "      <td>Baton Rouge</td>\n",
       "      <td>LA</td>\n",
       "    </tr>\n",
       "    <tr>\n",
       "      <th>284912202</th>\n",
       "      <td>5</td>\n",
       "      <td>4</td>\n",
       "      <td>1</td>\n",
       "      <td>11</td>\n",
       "      <td>15</td>\n",
       "      <td>0</td>\n",
       "      <td>1</td>\n",
       "      <td>0</td>\n",
       "      <td>99999</td>\n",
       "      <td>None</td>\n",
       "      <td>None</td>\n",
       "    </tr>\n",
       "    <tr>\n",
       "      <th>284912227</th>\n",
       "      <td>4</td>\n",
       "      <td>3</td>\n",
       "      <td>5</td>\n",
       "      <td>9</td>\n",
       "      <td>12</td>\n",
       "      <td>1</td>\n",
       "      <td>2</td>\n",
       "      <td>0</td>\n",
       "      <td>20716</td>\n",
       "      <td>Bowie</td>\n",
       "      <td>MD</td>\n",
       "    </tr>\n",
       "    <tr>\n",
       "      <th>284912239</th>\n",
       "      <td>99</td>\n",
       "      <td>1</td>\n",
       "      <td>4</td>\n",
       "      <td>11</td>\n",
       "      <td>11</td>\n",
       "      <td>0</td>\n",
       "      <td>1</td>\n",
       "      <td>0</td>\n",
       "      <td>99999</td>\n",
       "      <td>None</td>\n",
       "      <td>None</td>\n",
       "    </tr>\n",
       "  </tbody>\n",
       "</table>\n",
       "</div>"
      ],
      "text/plain": [
       "            hoh_most_education  census_region  household_size  hoh_oldest_age  \\\n",
       "machine_id                                                                      \n",
       "284912174                    2              3               3              11   \n",
       "284912175                   99              3               5               8   \n",
       "284912202                    5              4               1              11   \n",
       "284912227                    4              3               5               9   \n",
       "284912239                   99              1               4              11   \n",
       "\n",
       "            household_income  children  racial_background  country_of_origin  \\\n",
       "machine_id                                                                     \n",
       "284912174                 15         1                  1                  0   \n",
       "284912175                 11         0                  2                  0   \n",
       "284912202                 15         0                  1                  0   \n",
       "284912227                 12         1                  2                  0   \n",
       "284912239                 11         0                  1                  0   \n",
       "\n",
       "           zip_code    city_name state  \n",
       "machine_id                              \n",
       "284912174     29532   Darlington    SC  \n",
       "284912175     70818  Baton Rouge    LA  \n",
       "284912202     99999         None  None  \n",
       "284912227     20716        Bowie    MD  \n",
       "284912239     99999         None  None  "
      ]
     },
     "execution_count": 13,
     "metadata": {},
     "output_type": "execute_result"
    }
   ],
   "source": [
    "demo2019.tail()"
   ]
  },
  {
   "cell_type": "markdown",
   "id": "3a3a8303",
   "metadata": {},
   "source": [
    "### What we learned from the demographics data:\n",
    "- Majority of people in this dataset:\n",
    "    - have an Associates degree\n",
    "    - are from the South \n",
    "    - have a 2 person household size \n",
    "    - make less than $59,000\n",
    "    - about 50% have children and the other 50% don't \n",
    "    - are Caucasian\n",
    "    - are non-Hispanic \n",
    "- Top 5 states (in descending order): California, Texas, Florida, New York, Georgia."
   ]
  },
  {
   "cell_type": "markdown",
   "id": "40d076c4",
   "metadata": {},
   "source": [
    "## B: Transactions Data"
   ]
  },
  {
   "cell_type": "code",
   "execution_count": 14,
   "id": "1e159d6a",
   "metadata": {},
   "outputs": [
    {
     "name": "stdout",
     "output_type": "stream",
     "text": [
      "(581088, 10)\n"
     ]
    },
    {
     "data": {
      "text/plain": [
       "site_session_id       int64\n",
       "prod_category_id      int64\n",
       "prod_name            object\n",
       "prod_qty            float64\n",
       "prod_totprice       float64\n",
       "basket_tot          float64\n",
       "event_date           object\n",
       "event_time           object\n",
       "domain_name          object\n",
       "dtype: object"
      ]
     },
     "execution_count": 14,
     "metadata": {},
     "output_type": "execute_result"
    }
   ],
   "source": [
    "trans2019 = pd.read_csv('trans2019.csv')\n",
    "trans2019.index = trans2019.machine_id.astype(str)\n",
    "trans2019.drop('machine_id', axis=1, inplace=True)\n",
    "print(trans2019.shape) #581,088 rows, 10 cols \n",
    "\n",
    "#Drop domain ID column bc we already have domain name \n",
    "trans2019.drop(['domain_id'], axis=1, inplace=True)\n",
    "trans2019.dtypes #We've got 2 integers, 3 objects, and 3 floats"
   ]
  },
  {
   "cell_type": "code",
   "execution_count": 15,
   "id": "22a85f5d",
   "metadata": {},
   "outputs": [
    {
     "name": "stdout",
     "output_type": "stream",
     "text": [
      "site_session_id         0\n",
      "prod_category_id        0\n",
      "prod_name            3770\n",
      "prod_qty                0\n",
      "prod_totprice       34822\n",
      "basket_tot              0\n",
      "event_date              0\n",
      "event_time              0\n",
      "domain_name             0\n",
      "month                   0\n",
      "day                     0\n",
      "hour                    0\n",
      "minute                  0\n",
      "second                  0\n",
      "dtype: int64\n"
     ]
    }
   ],
   "source": [
    "#Transform event_date and event_time columns \n",
    "trans2019['event_date'] = pd.to_datetime(trans2019.event_date)\n",
    "trans2019['month'] = trans2019.event_date.dt.month\n",
    "trans2019['day'] = trans2019.event_date.dt.day\n",
    "df = pd.DataFrame(trans2019.event_time.str.split(pat=':', expand=True))\n",
    "df.rename(columns ={0:'hour', 1:'minute', 2:'second'}, inplace=True)\n",
    "trans2019['hour'] = df['hour'].astype(int)\n",
    "trans2019['minute'] = df['minute'].astype(int)\n",
    "trans2019['second'] = df['second'].astype(int)\n",
    "\n",
    "#Drop if basket total = 0 \n",
    "trans2019 = trans2019[trans2019['basket_tot'] >0]\n",
    "trans2019.head()\n",
    "print(trans2019.isnull().sum())"
   ]
  },
  {
   "cell_type": "code",
   "execution_count": 16,
   "id": "3ba363f7",
   "metadata": {},
   "outputs": [
    {
     "name": "stdout",
     "output_type": "stream",
     "text": [
      "                     site_session_id\n",
      "0                           0.204134\n",
      "8900684409014775921         0.000174\n",
      "2328991449883855675         0.000161\n",
      "6865195613475022844         0.000129\n",
      "3864912211362590227         0.000121\n",
      "...                              ...\n",
      "1387664992824660891         0.000002\n",
      "2954118158484952112         0.000002\n",
      "1574616165688331229         0.000002\n",
      "7314324429906879735         0.000002\n",
      "4607214019686351270         0.000002\n",
      "\n",
      "[224481 rows x 1 columns]\n",
      "            prod_category_id\n",
      "999                 0.153603\n",
      "1001001014          0.067083\n",
      "7008024233          0.064053\n",
      "7008023051          0.044138\n",
      "3004010078          0.037567\n",
      "...                      ...\n",
      "6007022222          0.000002\n",
      "2003005059          0.000002\n",
      "7009031112          0.000002\n",
      "7008023050          0.000002\n",
      "2003005067          0.000002\n",
      "\n",
      "[245 rows x 1 columns]\n",
      "                                                    prod_name\n",
      "Pizza                                                0.017356\n",
      "Not Found                                            0.006921\n",
      "Sides                                                0.005299\n",
      "Bread                                                0.004094\n",
      "Wings                                                0.003793\n",
      "...                                                       ...\n",
      "Pentair 261152 2-Inch Threaded Multiport Valve ...   0.000002\n",
      "ixaer Universal Full Face Mask Adjustable B07R9...   0.000002\n",
      "SYLVANIA - 3457 Long Life Miniature - Bulb, Ide...   0.000002\n",
      "SMK Multishot Magazine .22 Version for XS78 XS7...   0.000002\n",
      "Baltimore Raven Polo Shirt NFL Nike Dry Fit  1win    0.000002\n",
      "\n",
      "[378294 rows x 1 columns]\n",
      "       prod_qty\n",
      "1.0    0.881436\n",
      "2.0    0.069897\n",
      "3.0    0.016727\n",
      "4.0    0.009760\n",
      "5.0    0.004286\n",
      "...         ...\n",
      "584.0  0.000002\n",
      "273.0  0.000002\n",
      "165.0  0.000002\n",
      "284.0  0.000002\n",
      "347.0  0.000002\n",
      "\n",
      "[306 rows x 1 columns]\n",
      "        prod_totprice\n",
      "0.00         0.056576\n",
      "5.99         0.018577\n",
      "9.99         0.018543\n",
      "19.99        0.018019\n",
      "7.99         0.014538\n",
      "...               ...\n",
      "190.47       0.000002\n",
      "201.68       0.000002\n",
      "103.88       0.000002\n",
      "341.64       0.000002\n",
      "345.52       0.000002\n",
      "\n",
      "[17151 rows x 1 columns]\n",
      "         basket_tot\n",
      "0.99       0.006250\n",
      "9.99       0.003711\n",
      "2.99       0.003636\n",
      "4.99       0.003171\n",
      "3.99       0.002905\n",
      "...             ...\n",
      "437.96     0.000002\n",
      "286.63     0.000002\n",
      "655.87     0.000002\n",
      "1103.88    0.000002\n",
      "575.68     0.000002\n",
      "\n",
      "[41169 rows x 1 columns]\n",
      "            event_date\n",
      "2019-12-02    0.007343\n",
      "2019-11-29    0.006911\n",
      "2019-12-03    0.006302\n",
      "2019-11-30    0.005568\n",
      "2019-12-11    0.005009\n",
      "...                ...\n",
      "2019-02-26    0.001521\n",
      "2019-02-25    0.001476\n",
      "2019-09-26    0.001384\n",
      "2019-07-23    0.001334\n",
      "2019-08-26    0.000136\n",
      "\n",
      "[365 rows x 1 columns]\n",
      "          event_time\n",
      "21:48:44    0.000192\n",
      "23:34:19    0.000191\n",
      "15:55:20    0.000168\n",
      "0:18:40     0.000151\n",
      "0:31:56     0.000142\n",
      "...              ...\n",
      "9:04:36     0.000002\n",
      "23:36:07    0.000002\n",
      "13:40:11    0.000002\n",
      "2:22:25     0.000002\n",
      "9:45:47     0.000002\n",
      "\n",
      "[73888 rows x 1 columns]\n",
      "                       domain_name\n",
      "amazon.com                0.439628\n",
      "ebay.com                  0.084018\n",
      "walmart.com               0.053868\n",
      "dominos.com               0.040958\n",
      "kohls.com                 0.017796\n",
      "...                            ...\n",
      "tigerdirect.com           0.000043\n",
      "midnightvelvet.com        0.000030\n",
      "payless.com               0.000028\n",
      "dollarshaveclub.com       0.000006\n",
      "sierratradingpost.com     0.000004\n",
      "\n",
      "[178 rows x 1 columns]\n",
      "       month\n",
      "12  0.120114\n",
      "1   0.094920\n",
      "11  0.094733\n",
      "3   0.081768\n",
      "4   0.080543\n",
      "7   0.080421\n",
      "5   0.079078\n",
      "10  0.077968\n",
      "8   0.077385\n",
      "6   0.076040\n",
      "9   0.072522\n",
      "2   0.064508\n",
      "         day\n",
      "2   0.037016\n",
      "3   0.036750\n",
      "1   0.035751\n",
      "15  0.035198\n",
      "11  0.034985\n",
      "16  0.034643\n",
      "10  0.034632\n",
      "9   0.034546\n",
      "8   0.034370\n",
      "7   0.034226\n",
      "12  0.034152\n",
      "14  0.033869\n",
      "4   0.033845\n",
      "17  0.033621\n",
      "13  0.032801\n",
      "5   0.032649\n",
      "6   0.032182\n",
      "19  0.032141\n",
      "28  0.031829\n",
      "18  0.031717\n",
      "29  0.031487\n",
      "21  0.031263\n",
      "30  0.031186\n",
      "20  0.031168\n",
      "27  0.031035\n",
      "22  0.030822\n",
      "24  0.029951\n",
      "25  0.029178\n",
      "23  0.028969\n",
      "26  0.026290\n",
      "31  0.017727\n",
      "        hour\n",
      "23  0.069456\n",
      "0   0.067171\n",
      "22  0.067098\n",
      "21  0.066110\n",
      "19  0.063899\n",
      "20  0.063797\n",
      "1   0.062969\n",
      "18  0.060232\n",
      "17  0.060142\n",
      "16  0.058887\n",
      "2   0.055839\n",
      "15  0.051449\n",
      "3   0.046981\n",
      "14  0.042817\n",
      "4   0.033815\n",
      "13  0.031272\n",
      "5   0.022553\n",
      "12  0.019358\n",
      "6   0.014519\n",
      "11  0.012141\n",
      "7   0.010009\n",
      "10  0.007311\n",
      "8   0.006769\n",
      "9   0.005401\n",
      "24  0.000006\n",
      "      minute\n",
      "26  0.017475\n",
      "43  0.017278\n",
      "6   0.017275\n",
      "55  0.017226\n",
      "48  0.017194\n",
      "50  0.017140\n",
      "9   0.017135\n",
      "8   0.017095\n",
      "23  0.017060\n",
      "4   0.017051\n",
      "29  0.017026\n",
      "11  0.017013\n",
      "58  0.017004\n",
      "15  0.016981\n",
      "52  0.016933\n",
      "46  0.016929\n",
      "39  0.016924\n",
      "37  0.016918\n",
      "13  0.016823\n",
      "28  0.016808\n",
      "57  0.016765\n",
      "41  0.016752\n",
      "27  0.016735\n",
      "14  0.016729\n",
      "7   0.016714\n",
      "31  0.016709\n",
      "42  0.016694\n",
      "12  0.016694\n",
      "1   0.016671\n",
      "2   0.016658\n",
      "56  0.016651\n",
      "38  0.016649\n",
      "45  0.016643\n",
      "17  0.016611\n",
      "5   0.016610\n",
      "59  0.016608\n",
      "33  0.016550\n",
      "54  0.016533\n",
      "49  0.016529\n",
      "36  0.016518\n",
      "24  0.016494\n",
      "0   0.016455\n",
      "16  0.016449\n",
      "10  0.016445\n",
      "53  0.016434\n",
      "19  0.016427\n",
      "18  0.016419\n",
      "22  0.016382\n",
      "25  0.016370\n",
      "21  0.016354\n",
      "34  0.016350\n",
      "20  0.016342\n",
      "51  0.016309\n",
      "47  0.016309\n",
      "35  0.016204\n",
      "40  0.016161\n",
      "3   0.016025\n",
      "30  0.016010\n",
      "32  0.015965\n",
      "44  0.015788\n",
      "      second\n",
      "44  0.017624\n",
      "16  0.017437\n",
      "11  0.017376\n",
      "36  0.017348\n",
      "33  0.017292\n",
      "43  0.017202\n",
      "40  0.017170\n",
      "14  0.017170\n",
      "17  0.017028\n",
      "48  0.017004\n",
      "42  0.016968\n",
      "47  0.016933\n",
      "4   0.016925\n",
      "30  0.016912\n",
      "2   0.016899\n",
      "26  0.016884\n",
      "59  0.016875\n",
      "9   0.016845\n",
      "41  0.016839\n",
      "6   0.016793\n",
      "28  0.016752\n",
      "38  0.016742\n",
      "10  0.016707\n",
      "20  0.016705\n",
      "7   0.016694\n",
      "15  0.016686\n",
      "52  0.016684\n",
      "21  0.016679\n",
      "3   0.016641\n",
      "56  0.016640\n",
      "57  0.016626\n",
      "25  0.016619\n",
      "50  0.016617\n",
      "39  0.016608\n",
      "49  0.016598\n",
      "34  0.016598\n",
      "31  0.016580\n",
      "19  0.016574\n",
      "23  0.016567\n",
      "55  0.016561\n",
      "5   0.016557\n",
      "8   0.016546\n",
      "45  0.016540\n",
      "54  0.016486\n",
      "18  0.016483\n",
      "29  0.016483\n",
      "32  0.016477\n",
      "12  0.016471\n",
      "37  0.016443\n",
      "53  0.016365\n",
      "35  0.016354\n",
      "46  0.016324\n",
      "51  0.016210\n",
      "22  0.016193\n",
      "24  0.016193\n",
      "0   0.016086\n",
      "13  0.015980\n",
      "27  0.015935\n",
      "1   0.015857\n",
      "58  0.015614\n"
     ]
    }
   ],
   "source": [
    "#Evaluating nulls (prod_name and prod_totprice)\n",
    "for cols in trans2019.columns[0:]:\n",
    "   print(pd.DataFrame(trans2019[cols].value_counts(normalize=True)))\n",
    "#20% of site_session_id are nulls disguised as 0s\n",
    "#prod_category_id has 15% null values \n",
    "    \n",
    "#Imputing prod_name nulls\n",
    "trans2019.prod_name.fillna('Unknown', inplace=True)\n",
    "\n",
    "#Will impute nulls in 'prod_totprice' col with \n",
    "trans2019.fillna(value={'prod_totprice': trans2019['prod_totprice'].mean() }, inplace=True)"
   ]
  },
  {
   "cell_type": "code",
   "execution_count": 17,
   "id": "e79ff23f",
   "metadata": {},
   "outputs": [
    {
     "data": {
      "text/plain": [
       "nan (NON-TRAVEL)                        68451\n",
       "WOMEN (NON-TRAVEL)                      35905\n",
       "FOOD DELIVERY (NON-TRAVEL)              34283\n",
       "PERSONAL CARE (NON-TRAVEL)              23624\n",
       "ELECTRONICS ACCESSORIES (NON-TRAVEL)    20107\n",
       "WEDDING SHOP (NON-TRAVEL)               14820\n",
       "AIR TRAVEL (TRAVEL)                     13084\n",
       "KITCHEN & DINING (NON-TRAVEL)           12352\n",
       "AUTO PARTS (NON-TRAVEL)                 12351\n",
       "HOTEL RESERVATIONS (TRAVEL)             10916\n",
       "MEN (NON-TRAVEL)                        10837\n",
       "TOOLS (NON-TRAVEL)                      10466\n",
       "FASHION JEWELRY (NON-TRAVEL)             7753\n",
       "CAR RENTAL (TRAVEL)                      7608\n",
       "SHOES (NON-TRAVEL)                       7200\n",
       "Name: prod_cat_name, dtype: int64"
      ]
     },
     "execution_count": 17,
     "metadata": {},
     "output_type": "execute_result"
    }
   ],
   "source": [
    "#Cleaning up product category data dictionary \n",
    "dff = pd.read_csv('product_category_lookup.csv', header=None)\n",
    "\n",
    "#Rename columns \n",
    "colnames = ['A', 'B', 'C', 'D', 'E', 'F', 'G', 'H', 'I', 'J']\n",
    "dff.columns = colnames\n",
    "\n",
    "#Write function to append text \n",
    "def convert(num):\n",
    "    return(dff.iloc[:, num].astype(str).values + ' (' + dff.iloc[:, 1].astype(str).values + ')')\n",
    "    \n",
    "#Assign new col values to old col values\n",
    "for i in list(range(2,10,2)):\n",
    "    for j in ['aaa','bbb','ccc','ddd']:\n",
    "        dff[j] = convert(i)\n",
    "        \n",
    "#Drop nonsense cols & reorder\n",
    "dff = dff[['A','aaa', 'D', 'bbb', 'F', 'ccc', 'H', 'ddd']]\n",
    "\n",
    "#Return only 2 columns; ID and name \n",
    "a = dff.iloc[:,0:2].rename(columns={'A':'ID', 'aaa':'Name'})\n",
    "b = dff.iloc[:,2:4].rename(columns={'D':'ID', 'bbb':'Name'})\n",
    "c = dff.iloc[:,4:6].rename(columns={'F':'ID', 'ccc':'Name'})\n",
    "d = dff.iloc[:,6:8].rename(columns={'H':'ID', 'ddd':'Name'})\n",
    "\n",
    "prod_cat_dict = pd.concat([a,b,c,d], ignore_index=True)\n",
    "\n",
    "#Map values in dictionary to trans2019 df\n",
    "mapping = dict(prod_cat_dict[['ID', 'Name']].values)\n",
    "trans2019['prod_cat_name'] = trans2019.prod_category_id.map(mapping)\n",
    "trans2019.prod_cat_name.value_counts().head(15)"
   ]
  },
  {
   "cell_type": "code",
   "execution_count": 18,
   "id": "4e41d289",
   "metadata": {},
   "outputs": [
    {
     "data": {
      "text/plain": [
       "ebay.com                 0.149932\n",
       "walmart.com              0.096129\n",
       "dominos.com              0.073091\n",
       "kohls.com                0.031758\n",
       "papajohns.com            0.029140\n",
       "                           ...   \n",
       "tigerdirect.com          0.000077\n",
       "midnightvelvet.com       0.000053\n",
       "payless.com              0.000050\n",
       "dollarshaveclub.com      0.000010\n",
       "sierratradingpost.com    0.000007\n",
       "Name: domain_name, Length: 177, dtype: float64"
      ]
     },
     "execution_count": 18,
     "metadata": {},
     "output_type": "execute_result"
    }
   ],
   "source": [
    "trans2019[trans2019['domain_name'] != 'amazon.com']['domain_name'].value_counts(normalize=True)"
   ]
  },
  {
   "cell_type": "code",
   "execution_count": 19,
   "id": "9b567504",
   "metadata": {},
   "outputs": [
    {
     "data": {
      "image/png": "[encoded data removed]",
      "text/plain": [
       "<Figure size 360x144 with 1 Axes>"
      ]
     },
     "metadata": {
      "needs_background": "light"
     },
     "output_type": "display_data"
    },
    {
     "data": {
      "image/png": "[encoded data removed]",
      "text/plain": [
       "<Figure size 360x144 with 1 Axes>"
      ]
     },
     "metadata": {
      "needs_background": "light"
     },
     "output_type": "display_data"
    },
    {
     "name": "stderr",
     "output_type": "stream",
     "text": [
      "/Users/tolulopeadebayo/opt/anaconda3/lib/python3.8/site-packages/pandas/core/arraylike.py:358: RuntimeWarning: divide by zero encountered in log\n",
      "  result = getattr(ufunc, method)(*inputs, **kwargs)\n"
     ]
    },
    {
     "data": {
      "image/png": "[encoded data removed]",
      "text/plain": [
       "<Figure size 360x144 with 1 Axes>"
      ]
     },
     "metadata": {
      "needs_background": "light"
     },
     "output_type": "display_data"
    },
    {
     "data": {
      "image/png": "[encoded data removed]",
      "text/plain": [
       "<Figure size 360x144 with 1 Axes>"
      ]
     },
     "metadata": {
      "needs_background": "light"
     },
     "output_type": "display_data"
    },
    {
     "data": {
      "image/png": "[encoded data removed]",
      "text/plain": [
       "<Figure size 360x144 with 1 Axes>"
      ]
     },
     "metadata": {
      "needs_background": "light"
     },
     "output_type": "display_data"
    },
    {
     "data": {
      "image/png": "[encoded data removed]",
      "text/plain": [
       "<Figure size 360x144 with 1 Axes>"
      ]
     },
     "metadata": {
      "needs_background": "light"
     },
     "output_type": "display_data"
    }
   ],
   "source": [
    "#Let's look at some distributions \n",
    "numerical_cols = ['basket_tot', 'prod_totprice', 'prod_qty']\n",
    "\n",
    "#Need to tranform to natural log bc distribution is wide\n",
    "for i in numerical_cols:\n",
    "    trans2019[i].plot(kind='hist', figsize=(5,2)).set_title('Ugly Distribution: '+ str(i), fontsize=15);\n",
    "    df = pd.DataFrame(np.log(trans2019[i]))\n",
    "    df[df[i]>=0].plot(kind='hist', figsize=(5,2)).set_title('Pretty Distribution: '+ str(i), fontsize=15);\n",
    "    plt.show()"
   ]
  },
  {
   "cell_type": "code",
   "execution_count": 20,
   "id": "94bc273c",
   "metadata": {},
   "outputs": [
    {
     "data": {
      "text/plain": [
       "True"
      ]
     },
     "execution_count": 20,
     "metadata": {},
     "output_type": "execute_result"
    }
   ],
   "source": [
    "#Good news: Basket total (basket_tot) and product price (prod_totprice) almost looks like a normal distribution...\\\n",
    "#Bad news: Product quantity(prod_qty) has an extreme right tail...so the mean > mode\n",
    "#Poitive kurtosis?\n",
    "trans2019.prod_qty.mean() > statistics.mode(trans2019['prod_qty'])"
   ]
  },
  {
   "cell_type": "code",
   "execution_count": 21,
   "id": "a15f37ce",
   "metadata": {},
   "outputs": [
    {
     "data": {
      "text/plain": [
       "amazon.com     0.439628\n",
       "ebay.com       0.084018\n",
       "walmart.com    0.053868\n",
       "dominos.com    0.040958\n",
       "kohls.com      0.017796\n",
       "Name: domain_name, dtype: float64"
      ]
     },
     "execution_count": 21,
     "metadata": {},
     "output_type": "execute_result"
    }
   ],
   "source": [
    "#Top domains/websites \n",
    "trans2019.domain_name.value_counts().head(10)\n",
    "trans2019.domain_name.value_counts(normalize=True).head()"
   ]
  },
  {
   "cell_type": "code",
   "execution_count": 22,
   "id": "cc1796c2",
   "metadata": {},
   "outputs": [
    {
     "data": {
      "text/html": [
       "<div>\n",
       "<style scoped>\n",
       "    .dataframe tbody tr th:only-of-type {\n",
       "        vertical-align: middle;\n",
       "    }\n",
       "\n",
       "    .dataframe tbody tr th {\n",
       "        vertical-align: top;\n",
       "    }\n",
       "\n",
       "    .dataframe thead th {\n",
       "        text-align: right;\n",
       "    }\n",
       "</style>\n",
       "<table border=\"1\" class=\"dataframe\">\n",
       "  <thead>\n",
       "    <tr style=\"text-align: right;\">\n",
       "      <th></th>\n",
       "      <th></th>\n",
       "      <th></th>\n",
       "      <th>prod_category_id</th>\n",
       "      <th>prod_qty</th>\n",
       "      <th>prod_totprice</th>\n",
       "      <th>basket_tot</th>\n",
       "      <th>month</th>\n",
       "      <th>day</th>\n",
       "      <th>hour</th>\n",
       "      <th>minute</th>\n",
       "      <th>second</th>\n",
       "    </tr>\n",
       "    <tr>\n",
       "      <th>site_session_id</th>\n",
       "      <th>event_date</th>\n",
       "      <th>event_time</th>\n",
       "      <th></th>\n",
       "      <th></th>\n",
       "      <th></th>\n",
       "      <th></th>\n",
       "      <th></th>\n",
       "      <th></th>\n",
       "      <th></th>\n",
       "      <th></th>\n",
       "      <th></th>\n",
       "    </tr>\n",
       "  </thead>\n",
       "  <tbody>\n",
       "    <tr>\n",
       "      <th>9223272736257504539</th>\n",
       "      <th>2019-05-14</th>\n",
       "      <th>15:18:17</th>\n",
       "      <td>1001001014</td>\n",
       "      <td>1.0</td>\n",
       "      <td>16.99</td>\n",
       "      <td>9.67</td>\n",
       "      <td>5</td>\n",
       "      <td>14</td>\n",
       "      <td>15</td>\n",
       "      <td>18</td>\n",
       "      <td>17</td>\n",
       "    </tr>\n",
       "    <tr>\n",
       "      <th>9223280560014554383</th>\n",
       "      <th>2019-01-07</th>\n",
       "      <th>3:23:11</th>\n",
       "      <td>1001001014</td>\n",
       "      <td>1.0</td>\n",
       "      <td>149.99</td>\n",
       "      <td>163.49</td>\n",
       "      <td>1</td>\n",
       "      <td>7</td>\n",
       "      <td>3</td>\n",
       "      <td>23</td>\n",
       "      <td>11</td>\n",
       "    </tr>\n",
       "    <tr>\n",
       "      <th>9223334383795485381</th>\n",
       "      <th>2019-01-30</th>\n",
       "      <th>19:29:41</th>\n",
       "      <td>7008024233</td>\n",
       "      <td>1.0</td>\n",
       "      <td>8.94</td>\n",
       "      <td>37.30</td>\n",
       "      <td>1</td>\n",
       "      <td>30</td>\n",
       "      <td>19</td>\n",
       "      <td>29</td>\n",
       "      <td>41</td>\n",
       "    </tr>\n",
       "    <tr>\n",
       "      <th rowspan=\"2\" valign=\"top\">9223336846825662691</th>\n",
       "      <th rowspan=\"2\" valign=\"top\">2019-05-03</th>\n",
       "      <th>16:04:06</th>\n",
       "      <td>7008025108</td>\n",
       "      <td>1.0</td>\n",
       "      <td>3.99</td>\n",
       "      <td>3.99</td>\n",
       "      <td>5</td>\n",
       "      <td>3</td>\n",
       "      <td>16</td>\n",
       "      <td>4</td>\n",
       "      <td>6</td>\n",
       "    </tr>\n",
       "    <tr>\n",
       "      <th>17:58:43</th>\n",
       "      <td>7008023051</td>\n",
       "      <td>1.0</td>\n",
       "      <td>4.50</td>\n",
       "      <td>4.50</td>\n",
       "      <td>5</td>\n",
       "      <td>3</td>\n",
       "      <td>17</td>\n",
       "      <td>58</td>\n",
       "      <td>43</td>\n",
       "    </tr>\n",
       "  </tbody>\n",
       "</table>\n",
       "</div>"
      ],
      "text/plain": [
       "                                           prod_category_id  prod_qty  \\\n",
       "site_session_id     event_date event_time                               \n",
       "9223272736257504539 2019-05-14 15:18:17          1001001014       1.0   \n",
       "9223280560014554383 2019-01-07 3:23:11           1001001014       1.0   \n",
       "9223334383795485381 2019-01-30 19:29:41          7008024233       1.0   \n",
       "9223336846825662691 2019-05-03 16:04:06          7008025108       1.0   \n",
       "                               17:58:43          7008023051       1.0   \n",
       "\n",
       "                                           prod_totprice  basket_tot  month  \\\n",
       "site_session_id     event_date event_time                                     \n",
       "9223272736257504539 2019-05-14 15:18:17            16.99        9.67      5   \n",
       "9223280560014554383 2019-01-07 3:23:11            149.99      163.49      1   \n",
       "9223334383795485381 2019-01-30 19:29:41             8.94       37.30      1   \n",
       "9223336846825662691 2019-05-03 16:04:06             3.99        3.99      5   \n",
       "                               17:58:43             4.50        4.50      5   \n",
       "\n",
       "                                           day  hour  minute  second  \n",
       "site_session_id     event_date event_time                             \n",
       "9223272736257504539 2019-05-14 15:18:17     14    15      18      17  \n",
       "9223280560014554383 2019-01-07 3:23:11       7     3      23      11  \n",
       "9223334383795485381 2019-01-30 19:29:41     30    19      29      41  \n",
       "9223336846825662691 2019-05-03 16:04:06      3    16       4       6  \n",
       "                               17:58:43      3    17      58      43  "
      ]
     },
     "execution_count": 22,
     "metadata": {},
     "output_type": "execute_result"
    }
   ],
   "source": [
    "#Site_session_id is another unique ID but unique in conjunction w event date and time \n",
    "\n",
    "#Show site session id grouped by time and date \n",
    "trans2019.groupby(['site_session_id', 'event_date', 'event_time']).max('basket_tot').tail(5)"
   ]
  },
  {
   "cell_type": "code",
   "execution_count": 23,
   "id": "0c5cde70",
   "metadata": {},
   "outputs": [
    {
     "data": {
      "text/html": [
       "<div>\n",
       "<style scoped>\n",
       "    .dataframe tbody tr th:only-of-type {\n",
       "        vertical-align: middle;\n",
       "    }\n",
       "\n",
       "    .dataframe tbody tr th {\n",
       "        vertical-align: top;\n",
       "    }\n",
       "\n",
       "    .dataframe thead th {\n",
       "        text-align: right;\n",
       "    }\n",
       "</style>\n",
       "<table border=\"1\" class=\"dataframe\">\n",
       "  <thead>\n",
       "    <tr style=\"text-align: right;\">\n",
       "      <th></th>\n",
       "      <th>prod_name</th>\n",
       "    </tr>\n",
       "  </thead>\n",
       "  <tbody>\n",
       "    <tr>\n",
       "      <th>Pizza</th>\n",
       "      <td>9224</td>\n",
       "    </tr>\n",
       "    <tr>\n",
       "      <th>Unknown</th>\n",
       "      <td>3770</td>\n",
       "    </tr>\n",
       "    <tr>\n",
       "      <th>Not Found</th>\n",
       "      <td>3678</td>\n",
       "    </tr>\n",
       "    <tr>\n",
       "      <th>Sides</th>\n",
       "      <td>2816</td>\n",
       "    </tr>\n",
       "    <tr>\n",
       "      <th>Bread</th>\n",
       "      <td>2176</td>\n",
       "    </tr>\n",
       "    <tr>\n",
       "      <th>Wings</th>\n",
       "      <td>2016</td>\n",
       "    </tr>\n",
       "    <tr>\n",
       "      <th>Drinks</th>\n",
       "      <td>1800</td>\n",
       "    </tr>\n",
       "    <tr>\n",
       "      <th>roundtrip Flight</th>\n",
       "      <td>1580</td>\n",
       "    </tr>\n",
       "    <tr>\n",
       "      <th>Dessert</th>\n",
       "      <td>1572</td>\n",
       "    </tr>\n",
       "    <tr>\n",
       "      <th>Prints, 4x6</th>\n",
       "      <td>1300</td>\n",
       "    </tr>\n",
       "  </tbody>\n",
       "</table>\n",
       "</div>"
      ],
      "text/plain": [
       "                  prod_name\n",
       "Pizza                  9224\n",
       "Unknown                3770\n",
       "Not Found              3678\n",
       "Sides                  2816\n",
       "Bread                  2176\n",
       "Wings                  2016\n",
       "Drinks                 1800\n",
       "roundtrip Flight       1580\n",
       "Dessert                1572\n",
       "Prints, 4x6            1300"
      ]
     },
     "execution_count": 23,
     "metadata": {},
     "output_type": "execute_result"
    }
   ],
   "source": [
    "#Top 15 items are as follows...Not surprised that food is top 6 haha!\n",
    "pd.DataFrame(trans2019.prod_name.value_counts()).head(10) "
   ]
  },
  {
   "cell_type": "code",
   "execution_count": 24,
   "id": "4dc3d710",
   "metadata": {},
   "outputs": [
    {
     "data": {
      "image/png": "[encoded data removed]",
      "text/plain": [
       "<Figure size 432x288 with 1 Axes>"
      ]
     },
     "metadata": {
      "needs_background": "light"
     },
     "output_type": "display_data"
    }
   ],
   "source": [
    "#Let's plot avg basket total by month \n",
    "trans2019[['month','basket_tot']].groupby('month').mean('basket_tot').plot(kind='bar');"
   ]
  },
  {
   "cell_type": "code",
   "execution_count": 43,
   "id": "6cd9b6c4",
   "metadata": {},
   "outputs": [
    {
     "data": {
      "text/plain": [
       "<AxesSubplot:xlabel='event_date'>"
      ]
     },
     "execution_count": 43,
     "metadata": {},
     "output_type": "execute_result"
    },
    {
     "data": {
      "image/png": "[encoded data removed]",
      "text/plain": [
       "<Figure size 1080x360 with 1 Axes>"
      ]
     },
     "metadata": {
      "needs_background": "light"
     },
     "output_type": "display_data"
    }
   ],
   "source": [
    "#Let's plot avg basket total by month \n",
    "trans2019.plot(kind='line', figsize=(15,5), x='event_date', y='basket_tot')"
   ]
  },
  {
   "cell_type": "code",
   "execution_count": 26,
   "id": "b7eaebff",
   "metadata": {
    "scrolled": true
   },
   "outputs": [
    {
     "data": {
      "image/png": "[encoded data removed]",
      "text/plain": [
       "<Figure size 2160x216 with 1 Axes>"
      ]
     },
     "metadata": {
      "needs_background": "light"
     },
     "output_type": "display_data"
    }
   ],
   "source": [
    "#Domain and basket total\n",
    "trans2019[['domain_name', 'basket_tot']].groupby('domain_name').mean('prod_totprice').plot(kind='bar', figsize=(30,3));"
   ]
  },
  {
   "cell_type": "markdown",
   "id": "00044a19",
   "metadata": {},
   "source": [
    "### What we learned from the transactions data:\n",
    "- Top 5 product categories: Women, Food Delivery, Personal Care, Electronics Accessories, Fashion Jewelry\n",
    "- Top 10 websites: amazon.com, ebay.com, walmart.com, dominos.com, target.com, kohls.com, samsclub.com, etsy.com, papajohns.com, chewy.com\n",
    "- Amazon accounts for almost 44% of all transactions \n",
    "- Top 5 product items: Pizza, Sides, Bread, Wings, Drinks\t"
   ]
  },
  {
   "cell_type": "markdown",
   "id": "dc49341f",
   "metadata": {},
   "source": [
    "## C: Sessions Data"
   ]
  },
  {
   "cell_type": "code",
   "execution_count": 27,
   "id": "f70da08f",
   "metadata": {},
   "outputs": [
    {
     "name": "stdout",
     "output_type": "stream",
     "text": [
      "(224480, 11)\n"
     ]
    },
    {
     "name": "stderr",
     "output_type": "stream",
     "text": [
      "/Users/tolulopeadebayo/opt/anaconda3/lib/python3.8/site-packages/IPython/core/interactiveshell.py:3165: DtypeWarning: Columns (3) have mixed types.Specify dtype option on import or set low_memory=False.\n",
      "  has_raised = await self.run_ast_nodes(code_ast.body, cell_name,\n"
     ]
    },
    {
     "data": {
      "text/html": [
       "<div>\n",
       "<style scoped>\n",
       "    .dataframe tbody tr th:only-of-type {\n",
       "        vertical-align: middle;\n",
       "    }\n",
       "\n",
       "    .dataframe tbody tr th {\n",
       "        vertical-align: top;\n",
       "    }\n",
       "\n",
       "    .dataframe thead th {\n",
       "        text-align: right;\n",
       "    }\n",
       "</style>\n",
       "<table border=\"1\" class=\"dataframe\">\n",
       "  <thead>\n",
       "    <tr style=\"text-align: right;\">\n",
       "      <th></th>\n",
       "      <th>site_session_id</th>\n",
       "      <th>machine_id</th>\n",
       "      <th>user_session_id</th>\n",
       "      <th>domain_id</th>\n",
       "      <th>ref_domain__name</th>\n",
       "      <th>pages_viewed</th>\n",
       "      <th>duration</th>\n",
       "      <th>event_date</th>\n",
       "      <th>event_time</th>\n",
       "      <th>tran_flg</th>\n",
       "      <th>domain_name</th>\n",
       "    </tr>\n",
       "  </thead>\n",
       "  <tbody>\n",
       "    <tr>\n",
       "      <th>0</th>\n",
       "      <td>1000017909239914348</td>\n",
       "      <td>NaN</td>\n",
       "      <td>NaN</td>\n",
       "      <td></td>\n",
       "      <td>NaN</td>\n",
       "      <td>NaN</td>\n",
       "      <td>NaN</td>\n",
       "      <td>NaN</td>\n",
       "      <td>NaN</td>\n",
       "      <td>NaN</td>\n",
       "      <td>NaN</td>\n",
       "    </tr>\n",
       "    <tr>\n",
       "      <th>1</th>\n",
       "      <td>1000406262467311679</td>\n",
       "      <td>NaN</td>\n",
       "      <td>NaN</td>\n",
       "      <td></td>\n",
       "      <td>NaN</td>\n",
       "      <td>NaN</td>\n",
       "      <td>NaN</td>\n",
       "      <td>NaN</td>\n",
       "      <td>NaN</td>\n",
       "      <td>NaN</td>\n",
       "      <td>NaN</td>\n",
       "    </tr>\n",
       "    <tr>\n",
       "      <th>2</th>\n",
       "      <td>1000578923578008850</td>\n",
       "      <td>NaN</td>\n",
       "      <td>NaN</td>\n",
       "      <td></td>\n",
       "      <td>NaN</td>\n",
       "      <td>NaN</td>\n",
       "      <td>NaN</td>\n",
       "      <td>NaN</td>\n",
       "      <td>NaN</td>\n",
       "      <td>NaN</td>\n",
       "      <td>NaN</td>\n",
       "    </tr>\n",
       "    <tr>\n",
       "      <th>3</th>\n",
       "      <td>1001446498515399418</td>\n",
       "      <td>NaN</td>\n",
       "      <td>NaN</td>\n",
       "      <td></td>\n",
       "      <td>NaN</td>\n",
       "      <td>NaN</td>\n",
       "      <td>NaN</td>\n",
       "      <td>NaN</td>\n",
       "      <td>NaN</td>\n",
       "      <td>NaN</td>\n",
       "      <td>NaN</td>\n",
       "    </tr>\n",
       "    <tr>\n",
       "      <th>4</th>\n",
       "      <td>1001625075236765557</td>\n",
       "      <td>NaN</td>\n",
       "      <td>NaN</td>\n",
       "      <td></td>\n",
       "      <td>NaN</td>\n",
       "      <td>NaN</td>\n",
       "      <td>NaN</td>\n",
       "      <td>NaN</td>\n",
       "      <td>NaN</td>\n",
       "      <td>NaN</td>\n",
       "      <td>NaN</td>\n",
       "    </tr>\n",
       "  </tbody>\n",
       "</table>\n",
       "</div>"
      ],
      "text/plain": [
       "       site_session_id  machine_id  user_session_id domain_id  \\\n",
       "0  1000017909239914348         NaN              NaN             \n",
       "1  1000406262467311679         NaN              NaN             \n",
       "2  1000578923578008850         NaN              NaN             \n",
       "3  1001446498515399418         NaN              NaN             \n",
       "4  1001625075236765557         NaN              NaN             \n",
       "\n",
       "  ref_domain__name  pages_viewed  duration event_date event_time  tran_flg  \\\n",
       "0              NaN           NaN       NaN        NaN        NaN       NaN   \n",
       "1              NaN           NaN       NaN        NaN        NaN       NaN   \n",
       "2              NaN           NaN       NaN        NaN        NaN       NaN   \n",
       "3              NaN           NaN       NaN        NaN        NaN       NaN   \n",
       "4              NaN           NaN       NaN        NaN        NaN       NaN   \n",
       "\n",
       "  domain_name  \n",
       "0         NaN  \n",
       "1         NaN  \n",
       "2         NaN  \n",
       "3         NaN  \n",
       "4         NaN  "
      ]
     },
     "execution_count": 27,
     "metadata": {},
     "output_type": "execute_result"
    }
   ],
   "source": [
    "sess2019 = pd.read_csv('sessions2019.csv')\n",
    "print(sess2019.shape) #1,556,757 rows, 11 cols \n",
    "#sess2019.set_index('machine_id', inplace=True)\n",
    "sess2019.head()"
   ]
  },
  {
   "cell_type": "code",
   "execution_count": 28,
   "id": "806cdc58",
   "metadata": {},
   "outputs": [],
   "source": [
    "#Drop some nonsense columns \n",
    "sess2019.drop(['user_session_id','domain_id','domain_name','tran_flg'], axis=1, inplace=True)\n",
    "pd.DataFrame(sess2019).head()\n",
    "\n",
    "sess2019.isnull().sum()\n",
    "#Imputing nulls and drop rest \n",
    "sess2019['ref_domain__name'].fillna('Unknown', inplace=True)\n",
    "sess2019 = sess2019[sess2019.notnull()]\n",
    "\n",
    "#Convert data types\n",
    "sess2019['event_date'] = pd.to_datetime(sess2019.event_date)"
   ]
  },
  {
   "cell_type": "code",
   "execution_count": 29,
   "id": "80270660",
   "metadata": {},
   "outputs": [
    {
     "data": {
      "text/plain": [
       "<AxesSubplot:xlabel='event_date'>"
      ]
     },
     "execution_count": 29,
     "metadata": {},
     "output_type": "execute_result"
    },
    {
     "data": {
      "image/png": "[encoded data removed]",
      "text/plain": [
       "<Figure size 2160x216 with 1 Axes>"
      ]
     },
     "metadata": {
      "needs_background": "light"
     },
     "output_type": "display_data"
    }
   ],
   "source": [
    "sess2019[['event_date', 'pages_viewed']].plot(x='event_date', y='pages_viewed', figsize=(30,3))"
   ]
  },
  {
   "cell_type": "code",
   "execution_count": 30,
   "id": "11896515",
   "metadata": {},
   "outputs": [],
   "source": [
    "#df = pd.DataFrame(np.log(trans2019[i]))\n",
    " #   df[df[i]>=0].plot(kind='hist', figsize=(5,2)).set_title('Pretty Distribution: '+ str(i), fontsize=15);\n",
    "  #  plt.show()"
   ]
  },
  {
   "cell_type": "code",
   "execution_count": 31,
   "id": "0a42046c",
   "metadata": {},
   "outputs": [
    {
     "name": "stdout",
     "output_type": "stream",
     "text": [
      "                     site_session_id\n",
      "3112289038261360946         0.000004\n",
      "3468703878747476469         0.000004\n",
      "1108817489599035856         0.000004\n",
      "8546817848601738021         0.000004\n",
      "1457649843507509349         0.000004\n",
      "...                              ...\n",
      "5148814262685460366         0.000004\n",
      "1234835373336773215         0.000004\n",
      "4226415110660847914         0.000004\n",
      "548326474556196927          0.000004\n",
      "1058287185961853025         0.000004\n",
      "\n",
      "[224480 rows x 1 columns]\n",
      "             machine_id\n",
      "282139070.0    0.000826\n",
      "283577174.0    0.000765\n",
      "255384948.0    0.000760\n",
      "260301264.0    0.000750\n",
      "280689095.0    0.000740\n",
      "...                 ...\n",
      "250157133.0    0.000005\n",
      "248858676.0    0.000005\n",
      "268264665.0    0.000005\n",
      "274899243.0    0.000005\n",
      "279521442.0    0.000005\n",
      "\n",
      "[35129 rows x 1 columns]\n",
      "                         ref_domain__name\n",
      "Unknown                          0.893171\n",
      "amazon.com                       0.050013\n",
      "ebay.com                         0.016848\n",
      "google.com                       0.005145\n",
      "paypal.com                       0.004566\n",
      "...                                   ...\n",
      "constantcontact.com              0.000004\n",
      "netgalley.com                    0.000004\n",
      "healthybenefitsplus.com          0.000004\n",
      "gowatching.com                   0.000004\n",
      "myregisteredsite.com             0.000004\n",
      "\n",
      "[434 rows x 1 columns]\n",
      "       pages_viewed\n",
      "6.0        0.041220\n",
      "7.0        0.040945\n",
      "8.0        0.040863\n",
      "9.0        0.039940\n",
      "5.0        0.039129\n",
      "...             ...\n",
      "245.0      0.000005\n",
      "287.0      0.000005\n",
      "460.0      0.000005\n",
      "438.0      0.000005\n",
      "244.0      0.000005\n",
      "\n",
      "[300 rows x 1 columns]\n",
      "       duration\n",
      "6.0    0.033334\n",
      "5.0    0.032813\n",
      "8.0    0.032793\n",
      "7.0    0.032726\n",
      "9.0    0.032359\n",
      "...         ...\n",
      "341.0  0.000005\n",
      "354.0  0.000005\n",
      "556.0  0.000005\n",
      "443.0  0.000005\n",
      "640.0  0.000005\n",
      "\n",
      "[368 rows x 1 columns]\n",
      "            event_date\n",
      "2019-11-29    0.006066\n",
      "2019-12-02    0.005948\n",
      "2019-11-30    0.005091\n",
      "2019-12-03    0.005000\n",
      "2019-12-16    0.004127\n",
      "...                ...\n",
      "2019-07-23    0.001709\n",
      "2019-08-05    0.001658\n",
      "2019-12-25    0.001520\n",
      "2019-09-26    0.001464\n",
      "2019-08-26    0.000204\n",
      "\n",
      "[365 rows x 1 columns]\n",
      "          event_time\n",
      "0:00:02     0.000393\n",
      "0:00:01     0.000388\n",
      "0:00:00     0.000367\n",
      "0:00:14     0.000347\n",
      "0:00:06     0.000342\n",
      "...              ...\n",
      "19:22:54    0.000005\n",
      "22:42:45    0.000005\n",
      "16:40:58    0.000005\n",
      "8:54:13     0.000005\n",
      "22:02:00    0.000005\n",
      "\n",
      "[66670 rows x 1 columns]\n",
      "               log_dur\n",
      "<ufunc 'log'>      1.0\n"
     ]
    }
   ],
   "source": [
    "for cols in sess2019.columns[0:]:\n",
    "   print(pd.DataFrame(sess2019[cols].value_counts(normalize=True)))"
   ]
  },
  {
   "cell_type": "code",
   "execution_count": 32,
   "id": "338ddbb1",
   "metadata": {},
   "outputs": [
    {
     "data": {
      "text/plain": [
       "<AxesSubplot:title={'center':'Average Pages Viewed, by Domain Name'}, xlabel='ref_domain__name'>"
      ]
     },
     "execution_count": 32,
     "metadata": {},
     "output_type": "execute_result"
    },
    {
     "data": {
      "image/png": "[encoded data removed]",
      "text/plain": [
       "<Figure size 432x288 with 1 Axes>"
      ]
     },
     "metadata": {
      "needs_background": "light"
     },
     "output_type": "display_data"
    }
   ],
   "source": [
    "#Average Pages Viewed, by Domain Name\n",
    "pd.DataFrame(sess2019.groupby(by='ref_domain__name').mean('pages_viewed').\\\n",
    "             sort_values(by='pages_viewed',ascending=False)['pages_viewed']).head(20)\\\n",
    "            .plot(kind='bar', title = 'Average Pages Viewed, by Domain Name')"
   ]
  },
  {
   "cell_type": "code",
   "execution_count": 33,
   "id": "c850aa84",
   "metadata": {},
   "outputs": [
    {
     "data": {
      "text/plain": [
       "<AxesSubplot:title={'center':'Max Duration, by Domain Name'}, xlabel='ref_domain__name'>"
      ]
     },
     "execution_count": 33,
     "metadata": {},
     "output_type": "execute_result"
    },
    {
     "data": {
      "image/png": "[encoded data removed]",
      "text/plain": [
       "<Figure size 432x288 with 1 Axes>"
      ]
     },
     "metadata": {
      "needs_background": "light"
     },
     "output_type": "display_data"
    }
   ],
   "source": [
    "#Max Duration, by Domain Name\n",
    "pd.DataFrame(sess2019.groupby(by='ref_domain__name').max('duration').\\\n",
    "             sort_values(by='duration',ascending=False)['duration']).head(20)\\\n",
    "            .plot(kind='bar', title = 'Max Duration, by Domain Name')"
   ]
  },
  {
   "cell_type": "markdown",
   "id": "11a3ac62",
   "metadata": {},
   "source": [
    "### What we learned from the sessions data:\n",
    "- Pages viewed spiked sometime in June \n",
    "- Domains with highest avg pages viewed (top 3): consumersearch.com, shoplikeher.com, and bookfinder4u.com\n",
    "- Domains with highest max duration (top 3): cgoogle.com, yahoo.com, and ebay.com"
   ]
  },
  {
   "cell_type": "code",
   "execution_count": 34,
   "id": "47a44c78",
   "metadata": {},
   "outputs": [],
   "source": [
    "#Export all cleaned files \n",
    "demo2019.to_csv (r'demo2019_clean.csv', index = True, header=True)\n",
    "trans2019.to_csv (r'trans2019_clean.csv', index = True, header=True)\n",
    "sess2019.to_csv (r'sess2019_clean.csv', index = True, header=True)\n"
   ]
  },
  {
   "cell_type": "code",
   "execution_count": 35,
   "id": "70c5391b",
   "metadata": {},
   "outputs": [
    {
     "data": {
      "image/png": "[encoded data removed]",
      "text/plain": [
       "<Figure size 432x288 with 1 Axes>"
      ]
     },
     "metadata": {
      "needs_background": "light"
     },
     "output_type": "display_data"
    }
   ],
   "source": [
    "trans2019.plot(kind='scatter', x='basket_tot', y='prod_totprice', alpha=0.2);\n",
    "# Seaborn scatterplot with regression line\n",
    "#sns.lmplot(x='temp', y='total_rentals', data=bikes, aspect=1.5, scatter_kws={'alpha':0.2});"
   ]
  },
  {
   "cell_type": "code",
   "execution_count": 36,
   "id": "712638a8",
   "metadata": {},
   "outputs": [
    {
     "data": {
      "text/html": [
       "<div>\n",
       "<style scoped>\n",
       "    .dataframe tbody tr th:only-of-type {\n",
       "        vertical-align: middle;\n",
       "    }\n",
       "\n",
       "    .dataframe tbody tr th {\n",
       "        vertical-align: top;\n",
       "    }\n",
       "\n",
       "    .dataframe thead th {\n",
       "        text-align: right;\n",
       "    }\n",
       "</style>\n",
       "<table border=\"1\" class=\"dataframe\">\n",
       "  <thead>\n",
       "    <tr style=\"text-align: right;\">\n",
       "      <th></th>\n",
       "      <th>basket_tot</th>\n",
       "    </tr>\n",
       "    <tr>\n",
       "      <th>domain_name</th>\n",
       "      <th></th>\n",
       "    </tr>\n",
       "  </thead>\n",
       "  <tbody>\n",
       "    <tr>\n",
       "      <th>amazon.com</th>\n",
       "      <td>90.907363</td>\n",
       "    </tr>\n",
       "    <tr>\n",
       "      <th>dominos.com</th>\n",
       "      <td>31.625123</td>\n",
       "    </tr>\n",
       "    <tr>\n",
       "      <th>jetblue.com</th>\n",
       "      <td>468.299219</td>\n",
       "    </tr>\n",
       "  </tbody>\n",
       "</table>\n",
       "</div>"
      ],
      "text/plain": [
       "             basket_tot\n",
       "domain_name            \n",
       "amazon.com    90.907363\n",
       "dominos.com   31.625123\n",
       "jetblue.com  468.299219"
      ]
     },
     "execution_count": 36,
     "metadata": {},
     "output_type": "execute_result"
    }
   ],
   "source": [
    "#Get average basket totals for 2020\n",
    "trans2020 = pd.read_csv('trans2020_clean.csv')\n",
    "#trans2020.head()\n",
    "pd.DataFrame(trans2020[trans2020['domain_name'].isin(['amazon.com','jetblue.com', 'dominos.com']) == True].\\\n",
    "groupby('domain_name').mean('basket_tot')['basket_tot'])"
   ]
  },
  {
   "cell_type": "code",
   "execution_count": 37,
   "id": "55bce5d1",
   "metadata": {},
   "outputs": [
    {
     "data": {
      "text/plain": [
       "domain_name\n",
       "amazon.com     37130\n",
       "dominos.com     4232\n",
       "jetblue.com      523\n",
       "Name: machine_id, dtype: int64"
      ]
     },
     "execution_count": 37,
     "metadata": {},
     "output_type": "execute_result"
    }
   ],
   "source": [
    "#Get number of customers \n",
    "trans2020[trans2020['domain_name'].isin(['amazon.com','jetblue.com', 'dominos.com'])].\\\n",
    "groupby('domain_name').nunique()['machine_id']"
   ]
  },
  {
   "cell_type": "code",
   "execution_count": 38,
   "id": "8fbddb9c",
   "metadata": {},
   "outputs": [
    {
     "data": {
      "text/plain": [
       "domain_name\n",
       "amazon.com     496258.0\n",
       "dominos.com     33964.0\n",
       "jetblue.com      3346.0\n",
       "Name: prod_qty, dtype: float64"
      ]
     },
     "execution_count": 38,
     "metadata": {},
     "output_type": "execute_result"
    }
   ],
   "source": [
    "#Get number of products \n",
    "trans2020[trans2020['domain_name'].isin(['amazon.com','jetblue.com', 'dominos.com'])].\\\n",
    "groupby('domain_name').sum('prod_qty')['prod_qty']"
   ]
  },
  {
   "cell_type": "code",
   "execution_count": 44,
   "id": "d659cddc",
   "metadata": {},
   "outputs": [
    {
     "data": {
      "text/html": [
       "<div>\n",
       "<style scoped>\n",
       "    .dataframe tbody tr th:only-of-type {\n",
       "        vertical-align: middle;\n",
       "    }\n",
       "\n",
       "    .dataframe tbody tr th {\n",
       "        vertical-align: top;\n",
       "    }\n",
       "\n",
       "    .dataframe thead th {\n",
       "        text-align: right;\n",
       "    }\n",
       "</style>\n",
       "<table border=\"1\" class=\"dataframe\">\n",
       "  <thead>\n",
       "    <tr style=\"text-align: right;\">\n",
       "      <th></th>\n",
       "      <th>basket_tot</th>\n",
       "    </tr>\n",
       "    <tr>\n",
       "      <th>domain_name</th>\n",
       "      <th></th>\n",
       "    </tr>\n",
       "  </thead>\n",
       "  <tbody>\n",
       "    <tr>\n",
       "      <th>amazon.com</th>\n",
       "      <td>83.804189</td>\n",
       "    </tr>\n",
       "    <tr>\n",
       "      <th>dominos.com</th>\n",
       "      <td>29.427780</td>\n",
       "    </tr>\n",
       "    <tr>\n",
       "      <th>jetblue.com</th>\n",
       "      <td>681.150114</td>\n",
       "    </tr>\n",
       "  </tbody>\n",
       "</table>\n",
       "</div>"
      ],
      "text/plain": [
       "             basket_tot\n",
       "domain_name            \n",
       "amazon.com    83.804189\n",
       "dominos.com   29.427780\n",
       "jetblue.com  681.150114"
      ]
     },
     "execution_count": 44,
     "metadata": {},
     "output_type": "execute_result"
    }
   ],
   "source": [
    "pd.DataFrame(trans2019[trans2019['domain_name'].isin(['amazon.com','jetblue.com', 'dominos.com']) == True].\\\n",
    "groupby('domain_name').mean('basket_tot')['basket_tot'])"
   ]
  },
  {
   "cell_type": "code",
   "execution_count": 48,
   "id": "0de26d8e",
   "metadata": {},
   "outputs": [
    {
     "data": {
      "text/html": [
       "<div>\n",
       "<style scoped>\n",
       "    .dataframe tbody tr th:only-of-type {\n",
       "        vertical-align: middle;\n",
       "    }\n",
       "\n",
       "    .dataframe tbody tr th {\n",
       "        vertical-align: top;\n",
       "    }\n",
       "\n",
       "    .dataframe thead th {\n",
       "        text-align: right;\n",
       "    }\n",
       "</style>\n",
       "<table border=\"1\" class=\"dataframe\">\n",
       "  <thead>\n",
       "    <tr style=\"text-align: right;\">\n",
       "      <th></th>\n",
       "      <th>basket_tot</th>\n",
       "    </tr>\n",
       "    <tr>\n",
       "      <th>domain_name</th>\n",
       "      <th></th>\n",
       "    </tr>\n",
       "  </thead>\n",
       "  <tbody>\n",
       "    <tr>\n",
       "      <th>amazon.com</th>\n",
       "      <td>1.971938e+07</td>\n",
       "    </tr>\n",
       "    <tr>\n",
       "      <th>dominos.com</th>\n",
       "      <td>6.451158e+05</td>\n",
       "    </tr>\n",
       "    <tr>\n",
       "      <th>jetblue.com</th>\n",
       "      <td>2.279809e+06</td>\n",
       "    </tr>\n",
       "  </tbody>\n",
       "</table>\n",
       "</div>"
      ],
      "text/plain": [
       "               basket_tot\n",
       "domain_name              \n",
       "amazon.com   1.971938e+07\n",
       "dominos.com  6.451158e+05\n",
       "jetblue.com  2.279809e+06"
      ]
     },
     "execution_count": 48,
     "metadata": {},
     "output_type": "execute_result"
    }
   ],
   "source": [
    "pd.DataFrame(trans2019[trans2019['domain_name'].isin(['amazon.com','jetblue.com', 'dominos.com']) == True].\\\n",
    "groupby('domain_name').sum('basket_tot')['basket_tot'])"
   ]
  },
  {
   "cell_type": "code",
   "execution_count": null,
   "id": "312781f5",
   "metadata": {},
   "outputs": [],
   "source": []
  }
 ],
 "metadata": {
  "kernelspec": {
   "display_name": "Python 3",
   "language": "python",
   "name": "python3"
  },
  "language_info": {
   "codemirror_mode": {
    "name": "ipython",
    "version": 3
   },
   "file_extension": ".py",
   "mimetype": "text/x-python",
   "name": "python",
   "nbconvert_exporter": "python",
   "pygments_lexer": "ipython3",
   "version": "3.8.8"
  }
 },
 "nbformat": 4,
 "nbformat_minor": 5
}
